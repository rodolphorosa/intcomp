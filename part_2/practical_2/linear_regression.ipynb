{
 "cells": [
  {
   "cell_type": "code",
   "execution_count": 17,
   "metadata": {
    "collapsed": true,
    "deletable": true,
    "editable": true
   },
   "outputs": [],
   "source": [
    "import numpy as np\n",
    "import multiprocessing as mp\n",
    "\n",
    "from functools import partial\n",
    "from matplotlib import pyplot as plt"
   ]
  },
  {
   "cell_type": "code",
   "execution_count": 18,
   "metadata": {
    "collapsed": true
   },
   "outputs": [],
   "source": [
    "def generate_line(d=2):\n",
    "    return (np.random.rand(2) * 2) - 1\n",
    "\n",
    "def generate_data(line, n):\n",
    "    points = np.dot(np.random.rand(n, 2), 2) - 1\n",
    "    \n",
    "    return points\n",
    "\n",
    "def calc_y(line, data):\n",
    "    y = np.dot(data, line)\n",
    "    \n",
    "    y = np.where(y > 0, 1, -1)\n",
    "    \n",
    "    return y\n",
    "\n",
    "def lin_regression(x, y):\n",
    "    x_dagger = np.dot( np.linalg.inv( np.dot(x.T , x) ), x.T)\n",
    "\n",
    "    w_lin = np.dot(x_dagger, y)\n",
    "    \n",
    "    return w_lin"
   ]
  },
  {
   "cell_type": "code",
   "execution_count": 19,
   "metadata": {
    "collapsed": true
   },
   "outputs": [],
   "source": [
    "def experiment_1(N, e_id):\n",
    "    line = generate_line()\n",
    "\n",
    "    x = generate_data(line, N)\n",
    "    y = calc_y(line, x)\n",
    "\n",
    "    w_lin = lin_regression(x, y)\n",
    "    y_g = calc_y(w_lin, x)\n",
    "\n",
    "    e_in = np.count_nonzero( y - y_g ) / y.shape[0]\n",
    "    \n",
    "    return e_in\n",
    "\n",
    "def experiment_2(N, e_id):\n",
    "    line = generate_line()\n",
    "\n",
    "    x = generate_data(line, N)\n",
    "    y = calc_y(line, x)\n",
    "\n",
    "    w_lin = lin_regression(x, y)\n",
    "    \n",
    "    x_new = generate_data(line, N)\n",
    "    y_new = calc_y(line, x_new)\n",
    "    \n",
    "    y_g = calc_y(w_lin, x_new)\n",
    "    \n",
    "    e_out = np.count_nonzero( y_new - y_g ) / y_new.shape[0]\n",
    "\n",
    "    return e_out"
   ]
  },
  {
   "cell_type": "code",
   "execution_count": 20,
   "metadata": {
    "collapsed": true,
    "deletable": true,
    "editable": true
   },
   "outputs": [],
   "source": [
    "def run_experiment(N, num_exp, eid, processes=None):\n",
    "    pool = mp.Pool(processes)\n",
    "    \n",
    "    if eid == '1':\n",
    "        partial_func = partial(experiment_1, N)\n",
    "    elif eid == '2':\n",
    "        partial_func = partial(experiment_2, N)\n",
    "    else:\n",
    "        print('Invalid experiment!')\n",
    "        \n",
    "        return None\n",
    "    \n",
    "    results = pool.map(partial_func, range(num_exp))\n",
    "    \n",
    "    return np.mean(results)"
   ]
  },
  {
   "cell_type": "code",
   "execution_count": 21,
   "metadata": {
    "collapsed": false,
    "deletable": true,
    "editable": true
   },
   "outputs": [
    {
     "name": "stdout",
     "output_type": "stream",
     "text": [
      "Question 1: 0.0244\n",
      "Question 2: 0.024153\n"
     ]
    }
   ],
   "source": [
    "result_1 = run_experiment(100, 1000, '1')\n",
    "result_2 = run_experiment(1000, 1000, '2')\n",
    "\n",
    "print('Question 1:', result_1)\n",
    "print('Question 2:', result_2)"
   ]
  }
 ],
 "metadata": {
  "kernelspec": {
   "display_name": "Python 3",
   "language": "python",
   "name": "python3"
  },
  "language_info": {
   "codemirror_mode": {
    "name": "ipython",
    "version": 3
   },
   "file_extension": ".py",
   "mimetype": "text/x-python",
   "name": "python",
   "nbconvert_exporter": "python",
   "pygments_lexer": "ipython3",
   "version": "3.5.2"
  }
 },
 "nbformat": 4,
 "nbformat_minor": 2
}
